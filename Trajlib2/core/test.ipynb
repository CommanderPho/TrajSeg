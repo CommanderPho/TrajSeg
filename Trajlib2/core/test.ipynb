{
 "cells": [
  {
   "cell_type": "code",
   "execution_count": 7,
   "outputs": [
    {
     "name": "stdout",
     "text": [
      "True\n0 4 [108.81797325 108.81797325 108.81797325 108.81797325]\n4 7 [49.73751327 26.72878622 24.85447261]\n7 8 [99.63280885]\n[[(0, 3)], [(4, 6)], [(8, 11)]] []\n"
     ],
     "output_type": "stream"
    }
   ],
   "source": [
    "import numpy as np\n",
    "def findsubsegments(curr, ep):\n",
    "    curr=np.array(curr)\n",
    "    p = []\n",
    "    q = []\n",
    "    old_up_down=(ep <= curr[0])\n",
    "    print(old_up_down)\n",
    "    j=0\n",
    "    k=0\n",
    "    while j < len(curr):\n",
    "        up_down=(ep <= curr[j])\n",
    "        if old_up_down != up_down:\n",
    "            print(k, j, curr[k:j])\n",
    "            if (curr[k:j] <= ep).all():\n",
    "                if j - k == 1:\n",
    "                    #print(\"drop\")\n",
    "                    pass\n",
    "                else:\n",
    "                    #print(\"add to P\")\n",
    "                    p.append([(k,j-1)])\n",
    "            else:\n",
    "                if (curr[k:j] > ep).all():\n",
    "                    if j - k == 1:\n",
    "                        #print(\"drop\")\n",
    "                        pass\n",
    "                    else:\n",
    "                        #print(\"add to P\")\n",
    "                        p.append([(k,j-1)])\n",
    "                else:\n",
    "                    #print(\"add to q\")\n",
    "                    pass\n",
    "            k = j\n",
    "        old_up_down = up_down\n",
    "        j = j + 1\n",
    "    #print(k, j, curr[k:j])\n",
    "    if (curr[k:j] <= ep).all():\n",
    "        if j - k == 1:\n",
    "            #print(\"drop\")\n",
    "            pass\n",
    "        else:\n",
    "            #print(\"add to P\")\n",
    "            p.append([(k,j-1)])\n",
    "    else:\n",
    "        if (curr[k:j] > ep).all():\n",
    "            if j - k == 1:\n",
    "                #print(\"drop\")\n",
    "                pass\n",
    "            else:\n",
    "                #print(\"add to P\")\n",
    "                p.append([(k,j)])\n",
    "            \n",
    "    return p, q\n",
    "curr=[108.81797325, 108.81797325, 108.81797325, 108.81797325,\n",
    "        49.73751327,  26.72878622,  24.85447261,  99.63280885,\n",
    "        84.12777378,  18.59209961,  28.87366407,   9.62150385]\n",
    "ep=92.96070796788757\n",
    "p,q=findsubsegments(curr,ep)\n",
    "print(p,q)"
   ],
   "metadata": {
    "collapsed": false,
    "pycharm": {
     "name": "#%%\n",
     "is_executing": false
    }
   }
  },
  {
   "cell_type": "code",
   "execution_count": null,
   "outputs": [],
   "source": [
    "\n"
   ],
   "metadata": {
    "collapsed": false,
    "pycharm": {
     "name": "#%%\n"
    }
   }
  }
 ],
 "metadata": {
  "language_info": {
   "codemirror_mode": {
    "name": "ipython",
    "version": 2
   },
   "file_extension": ".py",
   "mimetype": "text/x-python",
   "name": "python",
   "nbconvert_exporter": "python",
   "pygments_lexer": "ipython2",
   "version": "2.7.6"
  },
  "kernelspec": {
   "name": "python3",
   "language": "python",
   "display_name": "Python 3"
  },
  "pycharm": {
   "stem_cell": {
    "cell_type": "raw",
    "source": [],
    "metadata": {
     "collapsed": false
    }
   }
  }
 },
 "nbformat": 4,
 "nbformat_minor": 0
}