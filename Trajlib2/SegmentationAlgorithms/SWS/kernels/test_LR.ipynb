{
 "cells": [
  {
   "cell_type": "code",
   "execution_count": 32,
   "metadata": {
    "collapsed": true,
    "pycharm": {
     "is_executing": false
    }
   },
   "outputs": [
    {
     "name": "stdout",
     "text": [
      "[33.11 33.12 33.15] 32\n33.11310810810811\n[33.10148649] [[0.00290541]]\n[-2.65 99.65] [33.09378716 33.39101014]\n[33.1  33.15 33.2  33.19] 32\n33.207561502830664\n[33.24787854] [[-0.00125991]]\n[ -7.765 104.765] [33.25766172 33.11588434]\n",
      "lon\n",
      "[63.11 63.12 63.15] 32\n63.19445945945946\n[63.10148649] [[0.00290541]]\n[-2.65 99.65] [63.09378716 63.39101014]\n[67.2  63.35 63.5  63.19] 32\n62.71855481214616\n[61.36951518] [[0.04215749]]\n[ -7.765 104.765] [61.04216229 65.78614446]\n",
      "33.19 63.19\n33.16033480546939 62.95650713580281\n21986.387575059187\n"
     ],
     "output_type": "stream"
    },
    {
     "data": {
      "text/plain": "<Figure size 432x288 with 1 Axes>",
      "image/png": "[encoded data removed]"
     },
     "metadata": {
      "needs_background": "light"
     },
     "output_type": "display_data"
    },
    {
     "data": {
      "text/plain": "<Figure size 432x288 with 1 Axes>",
      "image/png": "[encoded data removed]"
     },
     "metadata": {
      "needs_background": "light"
     },
     "output_type": "display_data"
    }
   ],
   "source": [
    "import numpy as np\n",
    "import pandas as pd\n",
    "#octal_window=pd.DataFrame()\n",
    "from sklearn.linear_model import LinearRegression\n",
    "import matplotlib.pyplot as plt\n",
    "#lat = np.array(octal_window.lat.values)\n",
    "#lon = np.array(octal_window.lon.values)\n",
    "def abline(slope, intercept):\n",
    "    \"\"\"Plot a line from slope and intercept\"\"\"\n",
    "    axes = plt.gca()\n",
    "    x_vals = np.array(axes.get_xlim())\n",
    "    y_vals = intercept + slope * x_vals\n",
    "    print(x_vals,y_vals)\n",
    "    plt.plot(x_vals, y_vals, '--')\n",
    "lat=np.array([33.11,33.12,33.15,33.19,33.20,33.15,33.10])\n",
    "lon=np.array([63.11,63.12,63.15,63.19,63.50,63.35,67.20])\n",
    "td=np.array([2,8,16,32,64,88,95])\n",
    "\n",
    "plt.scatter(td,lat)\n",
    "mid = int(len(lon) / 2)\n",
    "#td =np.array(((octal_window.index.values - octal_window.index.values.min()) / 1000000000).astype(float))\n",
    "lat_f=lat[:mid]\n",
    "td_f=td[:mid]\n",
    "print(lat_f,td[mid])\n",
    "LR_lat = LinearRegression()\n",
    "LR_lat.fit(td_f.reshape(-1, 1) , lat_f.reshape(-1,1)) \n",
    "y_pred_lat = LR_lat.predict(np.array([4]).reshape(-1,1))\n",
    "print(y_pred_lat[0][0])\n",
    "lat_f=y_pred_lat[0][0]\n",
    "print(LR_lat.intercept_,LR_lat.coef_)\n",
    "abline(LR_lat.coef_[0],LR_lat.intercept_[0])\n",
    "plt.scatter(td[mid],y_pred_lat[0][0],c='r')\n",
    "\n",
    "\n",
    "lat_b=lat[mid:][::-1]\n",
    "td_b=td[mid:][::-1]\n",
    "print(lat_b,td[mid])\n",
    "LR_lat = LinearRegression()\n",
    "LR_lat.fit(td_b.reshape(-1, 1) , lat_b.reshape(-1,1)) \n",
    "y_pred_lat = LR_lat.predict(np.array(td[mid]).reshape(-1,1))\n",
    "print(y_pred_lat[0][0])\n",
    "\n",
    "print(LR_lat.intercept_,LR_lat.coef_)\n",
    "abline(LR_lat.coef_[0],LR_lat.intercept_[0])\n",
    "lat_b=y_pred_lat[0][0]\n",
    "plt.scatter(td[mid],y_pred_lat[0][0],c='r')\n",
    "lat_b=y_pred_lat[0][0]\n",
    "lat_pred=(lat_f+lat_b)/2\n",
    "plt.scatter(td[mid],lat_pred,c='g')\n",
    "plt.show()\n",
    "\n",
    "print(\"lon\")\n",
    "plt.scatter(td,lon)\n",
    "mid = int(len(lon) / 2)\n",
    "#td =np.array(((octal_window.index.values - octal_window.index.values.min()) / 1000000000).astype(float))\n",
    "lon_f=lon[:mid]\n",
    "td_f=td[:mid]\n",
    "print(lon_f,td[mid])\n",
    "LR_lon = LinearRegression()\n",
    "LR_lon.fit(td_f.reshape(-1, 1) , lon_f.reshape(-1,1)) \n",
    "y_pred_lon = LR_lon.predict(np.array(td[mid]).reshape(-1,1))\n",
    "print(y_pred_lon[0][0])\n",
    "lon_f=y_pred_lon[0][0]\n",
    "print(LR_lon.intercept_,LR_lon.coef_)\n",
    "abline(LR_lon.coef_[0],LR_lon.intercept_[0])\n",
    "plt.scatter(td[mid],y_pred_lon[0][0],c='y')\n",
    "\n",
    "\n",
    "lon_b=lon[mid:][::-1]\n",
    "td_b=td[mid:][::-1]\n",
    "print(lon_b,td[mid])\n",
    "LR_lon = LinearRegression()\n",
    "LR_lon.fit(td_b.reshape(-1, 1) , lon_b.reshape(-1,1)) \n",
    "y_pred_lon = LR_lon.predict(np.array(td[mid]).reshape(-1,1))\n",
    "print(y_pred_lon[0][0])\n",
    "\n",
    "print(LR_lon.intercept_,LR_lon.coef_)\n",
    "abline(LR_lon.coef_[0],LR_lon.intercept_[0])\n",
    "lon_b=y_pred_lon[0][0]\n",
    "plt.scatter(td[mid],y_pred_lon[0][0],c='r')\n",
    "lon_b=y_pred_lon[0][0]\n",
    "lon_pred=(lon_f+lon_b)/2\n",
    "plt.scatter(td[mid],lon_pred,c='g')\n",
    "plt.show()\n",
    "print(lat[mid],lon[mid])\n",
    "print(lat_pred,lon_pred)\n",
    "from Trajlib2.core.utils import  haversine\n",
    "d = haversine((lat[mid],lon[mid]), (lat_pred,lon_pred))\n",
    "print(d)"
   ]
  },
  {
   "cell_type": "code",
   "execution_count": 20,
   "outputs": [],
   "source": [],
   "metadata": {
    "collapsed": false,
    "pycharm": {
     "name": "#%%\n",
     "is_executing": false
    }
   }
  },
  {
   "cell_type": "code",
   "execution_count": null,
   "outputs": [],
   "source": [
    "\n"
   ],
   "metadata": {
    "collapsed": false,
    "pycharm": {
     "name": "#%%\n"
    }
   }
  }
 ],
 "metadata": {
  "language_info": {
   "codemirror_mode": {
    "name": "ipython",
    "version": 2
   },
   "file_extension": ".py",
   "mimetype": "text/x-python",
   "name": "python",
   "nbconvert_exporter": "python",
   "pygments_lexer": "ipython2",
   "version": "2.7.6"
  },
  "kernelspec": {
   "name": "python3",
   "language": "python",
   "display_name": "Python 3"
  },
  "pycharm": {
   "stem_cell": {
    "cell_type": "raw",
    "source": [],
    "metadata": {
     "collapsed": false
    }
   }
  }
 },
 "nbformat": 4,
 "nbformat_minor": 0
}