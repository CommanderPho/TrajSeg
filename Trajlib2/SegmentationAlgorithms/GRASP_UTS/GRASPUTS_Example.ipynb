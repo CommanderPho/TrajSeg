{
 "cells": [
  {
   "cell_type": "code",
   "execution_count": 5,
   "metadata": {
    "pycharm": {
     "is_executing": false
    }
   },
   "outputs": [],
   "source": [
    "from sklearn.model_selection import ParameterGrid\n",
    "from Trajlib2.SegmentationAlgorithms.GRASP_UTS import GRASPUTS#,GRASPUTSEvaluate\n",
    "from sklearn.model_selection import KFold\n",
    "import pandas as pd\n",
    "import time,random"
   ]
  },
  {
   "cell_type": "code",
   "execution_count": 6,
   "metadata": {
    "pycharm": {
     "is_executing": false
    }
   },
   "outputs": [],
   "source": [
    "random.seed(2)"
   ]
  },
  {
   "cell_type": "code",
   "execution_count": 7,
   "metadata": {
    "pycharm": {
     "is_executing": false
    }
   },
   "outputs": [],
   "source": [
    "#Load Fishing Vessels\n",
    "fvdfs = []\n",
    "fvdfs.append(pd.read_csv('executable/databases/Fishing Vessels/fv_d1.txt',sep=';'))\n",
    "fvdfs.append(pd.read_csv('executable/databases/Fishing Vessels/fv_d2.txt',sep=';'))\n",
    "fvdfs.append(pd.read_csv('executable/databases/Fishing Vessels/fv_d3.txt',sep=';'))\n",
    "fvdfs.append(pd.read_csv('executable/databases/Fishing Vessels/fv_d4.txt',sep=';'))\n",
    "fvdfs.append(pd.read_csv('executable/databases/Fishing Vessels/fv_d5.txt',sep=';'))\n",
    "fvdfs.append(pd.read_csv('executable/databases/Fishing Vessels/fv_d6.txt',sep=';'))\n",
    "fvdfs.append(pd.read_csv('executable/databases/Fishing Vessels/fv_d7.txt',sep=';'))\n",
    "fvdfs.append(pd.read_csv('executable/databases/Fishing Vessels/fv_d8.txt',sep=';'))\n",
    "fvdfs.append(pd.read_csv('executable/databases/Fishing Vessels/fv_d9.txt',sep=';'))\n",
    "real_fvdfs = []\n",
    "for df in fvdfs:\n",
    "    df.set_index(keys=['tid'],drop=False,inplace=True)\n",
    "    tids = df['tid'].unique().tolist()\n",
    "    for tid in tids:\n",
    "        real_fvdfs.append(df.loc[df.tid ==tid])"
   ]
  },
  {
   "cell_type": "code",
   "execution_count": 8,
   "metadata": {
    "pycharm": {
     "is_executing": false
    }
   },
   "outputs": [
    {
     "traceback": [
      "\u001b[0;31m---------------------------------------------------------------------------\u001b[0m",
      "\u001b[0;31mValueError\u001b[0m                                Traceback (most recent call last)",
      "\u001b[0;32m<ipython-input-8-248778665fae>\u001b[0m in \u001b[0;36m<module>\u001b[0;34m\u001b[0m\n\u001b[1;32m      2\u001b[0m \u001b[0msplitter\u001b[0m \u001b[0;34m=\u001b[0m \u001b[0mKFold\u001b[0m\u001b[0;34m(\u001b[0m\u001b[0mn_splits\u001b[0m\u001b[0;34m=\u001b[0m\u001b[0;36m10\u001b[0m\u001b[0;34m,\u001b[0m\u001b[0mshuffle\u001b[0m\u001b[0;34m=\u001b[0m\u001b[0;32mTrue\u001b[0m\u001b[0;34m,\u001b[0m\u001b[0mrandom_state\u001b[0m\u001b[0;34m=\u001b[0m\u001b[0;36m2\u001b[0m\u001b[0;34m)\u001b[0m\u001b[0;34m\u001b[0m\u001b[0;34m\u001b[0m\u001b[0m\n\u001b[1;32m      3\u001b[0m \u001b[0mfolds\u001b[0m \u001b[0;34m=\u001b[0m \u001b[0msplitter\u001b[0m\u001b[0;34m.\u001b[0m\u001b[0msplit\u001b[0m\u001b[0;34m(\u001b[0m\u001b[0mreal_fvdfs\u001b[0m\u001b[0;34m)\u001b[0m\u001b[0;34m\u001b[0m\u001b[0;34m\u001b[0m\u001b[0m\n\u001b[0;32m----> 4\u001b[0;31m \u001b[0;34m(\u001b[0m\u001b[0mtrain\u001b[0m\u001b[0;34m,\u001b[0m\u001b[0mtest\u001b[0m\u001b[0;34m)\u001b[0m \u001b[0;34m=\u001b[0m \u001b[0mfolds\u001b[0m\u001b[0;34m\u001b[0m\u001b[0;34m\u001b[0m\u001b[0m\n\u001b[0m\u001b[1;32m      5\u001b[0m \u001b[0mprint\u001b[0m\u001b[0;34m(\u001b[0m\u001b[0mtrain\u001b[0m\u001b[0;34m)\u001b[0m\u001b[0;34m\u001b[0m\u001b[0;34m\u001b[0m\u001b[0m\n\u001b[1;32m      6\u001b[0m \u001b[0mprint\u001b[0m\u001b[0;34m(\u001b[0m\u001b[0mtest\u001b[0m\u001b[0;34m)\u001b[0m\u001b[0;34m\u001b[0m\u001b[0;34m\u001b[0m\u001b[0m\n",
      "\u001b[0;31mValueError\u001b[0m: too many values to unpack (expected 2)"
     ],
     "ename": "ValueError",
     "evalue": "too many values to unpack (expected 2)",
     "output_type": "error"
    }
   ],
   "source": [
    "#Split the data into 10 folds\n",
    "splitter = KFold(n_splits=10,shuffle=True,random_state=2)\n",
    "folds = splitter.split(real_fvdfs)\n",
    "(train,test) = folds\n",
    "print(train)\n",
    "print(test)"
   ]
  },
  {
   "cell_type": "code",
   "execution_count": 9,
   "metadata": {
    "pycharm": {
     "is_executing": false
    }
   },
   "outputs": [],
   "source": [
    "#Build Fishing Vessel Grid\n",
    "alpha = [0.3]\n",
    "partitioning_factor =[0]\n",
    "max_iterations=[30]\n",
    "min_times = [6,12,18,24]\n",
    "jcs = [0.3,0.4]\n",
    "feature_names = ['direction_inference','speed_inference_m_s']\n",
    "grid = {'alpha':alpha, 'partitioning_factor': partitioning_factor, 'max_iterations':max_iterations,'min_time':min_times,'jcs':jcs}\n",
    "parm_grid = ParameterGrid(grid)"
   ]
  },
  {
   "cell_type": "code",
   "execution_count": 10,
   "metadata": {
    "pycharm": {
     "is_executing": false
    }
   },
   "outputs": [],
   "source": [
    "def init_algo(p):\n",
    "    grasputs = GRASPUTS(feature_names=feature_names,\n",
    "                        lat_col='latitude', lon_col='longitude',\n",
    "                        time_format='%Y-%m-%d %H:%M:%S',\n",
    "                        min_time=p['min_time'],\n",
    "                        join_coefficient=p['jcs'],\n",
    "                        alpha=p['alpha'],\n",
    "                        partitioning_factor=p['partitioning_factor'])\n",
    "def execute(grasputs,dfs):\n",
    "        df_out = pd.DataFrame()"
   ]
  },
  {
   "cell_type": "code",
   "execution_count": 11,
   "metadata": {
    "pycharm": {
     "is_executing": false
    }
   },
   "outputs": [
    {
     "traceback": [
      "\u001b[0;31m---------------------------------------------------------------------------\u001b[0m",
      "\u001b[0;31mTypeError\u001b[0m                                 Traceback (most recent call last)",
      "\u001b[0;32m<ipython-input-11-3f47ae9939e0>\u001b[0m in \u001b[0;36m<module>\u001b[0;34m\u001b[0m\n\u001b[1;32m      2\u001b[0m \u001b[0;32mfor\u001b[0m \u001b[0mp\u001b[0m \u001b[0;32min\u001b[0m \u001b[0mparm_grid\u001b[0m\u001b[0;34m:\u001b[0m\u001b[0;34m\u001b[0m\u001b[0;34m\u001b[0m\u001b[0m\n\u001b[1;32m      3\u001b[0m     \u001b[0mcount\u001b[0m\u001b[0;34m=\u001b[0m\u001b[0;36m0\u001b[0m\u001b[0;34m\u001b[0m\u001b[0;34m\u001b[0m\u001b[0m\n\u001b[0;32m----> 4\u001b[0;31m     \u001b[0mgrasputs\u001b[0m \u001b[0;34m=\u001b[0m \u001b[0minit_algo\u001b[0m\u001b[0;34m(\u001b[0m\u001b[0mp\u001b[0m\u001b[0;34m)\u001b[0m\u001b[0;34m\u001b[0m\u001b[0;34m\u001b[0m\u001b[0m\n\u001b[0m\u001b[1;32m      5\u001b[0m     \u001b[0mprint\u001b[0m\u001b[0;34m(\u001b[0m\u001b[0mp\u001b[0m\u001b[0;34m)\u001b[0m\u001b[0;34m\u001b[0m\u001b[0;34m\u001b[0m\u001b[0m\n\u001b[1;32m      6\u001b[0m     \u001b[0;32mfor\u001b[0m \u001b[0mdf\u001b[0m \u001b[0;32min\u001b[0m \u001b[0mreal_fvdfs\u001b[0m\u001b[0;34m:\u001b[0m\u001b[0;34m\u001b[0m\u001b[0;34m\u001b[0m\u001b[0m\n",
      "\u001b[0;32m<ipython-input-10-cb50490571a0>\u001b[0m in \u001b[0;36minit_algo\u001b[0;34m(p)\u001b[0m\n\u001b[1;32m      6\u001b[0m                         \u001b[0mjoin_coefficient\u001b[0m\u001b[0;34m=\u001b[0m\u001b[0mp\u001b[0m\u001b[0;34m[\u001b[0m\u001b[0;34m'jcs'\u001b[0m\u001b[0;34m]\u001b[0m\u001b[0;34m,\u001b[0m\u001b[0;34m\u001b[0m\u001b[0;34m\u001b[0m\u001b[0m\n\u001b[1;32m      7\u001b[0m                         \u001b[0malpha\u001b[0m\u001b[0;34m=\u001b[0m\u001b[0mp\u001b[0m\u001b[0;34m[\u001b[0m\u001b[0;34m'alpha'\u001b[0m\u001b[0;34m]\u001b[0m\u001b[0;34m,\u001b[0m\u001b[0;34m\u001b[0m\u001b[0;34m\u001b[0m\u001b[0m\n\u001b[0;32m----> 8\u001b[0;31m                         partitioning_factor=p['partitioning_factor'])\n\u001b[0m\u001b[1;32m      9\u001b[0m \u001b[0;32mdef\u001b[0m \u001b[0mexecute\u001b[0m\u001b[0;34m(\u001b[0m\u001b[0mgrasputs\u001b[0m\u001b[0;34m,\u001b[0m\u001b[0mdfs\u001b[0m\u001b[0;34m)\u001b[0m\u001b[0;34m:\u001b[0m\u001b[0;34m\u001b[0m\u001b[0;34m\u001b[0m\u001b[0m\n\u001b[1;32m     10\u001b[0m         \u001b[0mdf_out\u001b[0m \u001b[0;34m=\u001b[0m \u001b[0mpd\u001b[0m\u001b[0;34m.\u001b[0m\u001b[0mDataFrame\u001b[0m\u001b[0;34m(\u001b[0m\u001b[0;34m)\u001b[0m\u001b[0;34m\u001b[0m\u001b[0;34m\u001b[0m\u001b[0m\n",
      "\u001b[0;31mTypeError\u001b[0m: 'module' object is not callable"
     ],
     "ename": "TypeError",
     "evalue": "'module' object is not callable",
     "output_type": "error"
    }
   ],
   "source": [
    "df_out = []\n",
    "for p in parm_grid:\n",
    "    count=0\n",
    "    grasputs = init_algo(p)\n",
    "    print(p)\n",
    "    for df in real_fvdfs:\n",
    "        count+=1\n",
    "        start_time = time.time()\n",
    "        print(\"Trajectory\", count)\n",
    "        segs, cost = grasputs.segment(df)\n",
    "        ground_truth = GRASPUTSEvaluate.get_ground_truth(df,label='label')\n",
    "        prediction = GRASPUTSEvaluate.get_predicted(segs)\n",
    "        print(\"Purity\",GRASPUTSEvaluate.purity(ground_truth,prediction)[1])\n",
    "        print(\"Coverage\",GRASPUTSEvaluate.coverage(ground_truth,prediction)[1])\n",
    "        print(\"Harmonic Mean\",GRASPUTSEvaluate.harmonic_mean(ground_truth,prediction))\n",
    "        print(\"--- %s seconds ---\" % (time.time() - start_time))"
   ]
  },
  {
   "cell_type": "code",
   "execution_count": null,
   "metadata": {},
   "outputs": [],
   "source": []
  },
  {
   "cell_type": "code",
   "execution_count": null,
   "metadata": {},
   "outputs": [],
   "source": []
  },
  {
   "cell_type": "code",
   "execution_count": null,
   "metadata": {},
   "outputs": [],
   "source": []
  }
 ],
 "metadata": {
  "kernelspec": {
   "display_name": "Python 3",
   "language": "python",
   "name": "python3"
  },
  "language_info": {
   "codemirror_mode": {
    "name": "ipython",
    "version": 3
   },
   "file_extension": ".py",
   "mimetype": "text/x-python",
   "name": "python",
   "nbconvert_exporter": "python",
   "pygments_lexer": "ipython3",
   "version": "3.7.1"
  },
  "pycharm": {
   "stem_cell": {
    "cell_type": "raw",
    "source": [],
    "metadata": {
     "collapsed": false
    }
   }
  }
 },
 "nbformat": 4,
 "nbformat_minor": 1
}