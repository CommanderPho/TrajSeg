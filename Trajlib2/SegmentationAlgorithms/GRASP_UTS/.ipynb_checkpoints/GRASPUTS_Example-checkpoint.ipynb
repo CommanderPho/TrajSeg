{
 "cells": [
  {
   "cell_type": "code",
   "execution_count": 1,
   "metadata": {},
   "outputs": [],
   "source": [
    "import pandas as pd"
   ]
  },
  {
   "cell_type": "code",
   "execution_count": null,
   "metadata": {},
   "outputs": [],
   "source": [
    "random.seed(2)"
   ]
  },
  {
   "cell_type": "code",
   "execution_count": 2,
   "metadata": {},
   "outputs": [],
   "source": [
    "#Load Fishing Vessels\n",
    "fvdfs = []\n",
    "fvdfs.append(pd.read_csv('databases/Fishing Vessels/fv_d1.txt',sep=';'))\n",
    "fvdfs.append(pd.read_csv('databases/Fishing Vessels/fv_d2.txt',sep=';'))\n",
    "fvdfs.append(pd.read_csv('databases/Fishing Vessels/fv_d3.txt',sep=';'))\n",
    "fvdfs.append(pd.read_csv('databases/Fishing Vessels/fv_d4.txt',sep=';'))\n",
    "fvdfs.append(pd.read_csv('databases/Fishing Vessels/fv_d5.txt',sep=';'))\n",
    "fvdfs.append(pd.read_csv('databases/Fishing Vessels/fv_d6.txt',sep=';'))\n",
    "fvdfs.append(pd.read_csv('databases/Fishing Vessels/fv_d7.txt',sep=';'))\n",
    "fvdfs.append(pd.read_csv('databases/Fishing Vessels/fv_d8.txt',sep=';'))\n",
    "fvdfs.append(pd.read_csv('databases/Fishing Vessels/fv_d9.txt',sep=';'))\n",
    "real_fvdfs = []\n",
    "for df in fvdfs:\n",
    "    df.set_index(keys=['tid'],drop=False,inplace=True)\n",
    "    tids = df['tid'].unique().tolist()\n",
    "    for tid in tids:\n",
    "        real_fvdfs.append(df.loc[df.tid ==tid])"
   ]
  },
  {
   "cell_type": "code",
   "execution_count": 4,
   "metadata": {},
   "outputs": [
    {
     "ename": "NameError",
     "evalue": "name 'ParameterGrid' is not defined",
     "output_type": "error",
     "traceback": [
      "\u001b[1;31m---------------------------------------------------------------------------\u001b[0m",
      "\u001b[1;31mNameError\u001b[0m                                 Traceback (most recent call last)",
      "\u001b[1;32m<ipython-input-4-8168f09ae153>\u001b[0m in \u001b[0;36m<module>\u001b[1;34m\u001b[0m\n\u001b[0;32m      5\u001b[0m \u001b[0mjcs\u001b[0m \u001b[1;33m=\u001b[0m \u001b[1;33m[\u001b[0m\u001b[1;36m0.3\u001b[0m\u001b[1;33m,\u001b[0m\u001b[1;36m0.4\u001b[0m\u001b[1;33m]\u001b[0m\u001b[1;33m\u001b[0m\u001b[1;33m\u001b[0m\u001b[0m\n\u001b[0;32m      6\u001b[0m \u001b[0mgrid\u001b[0m \u001b[1;33m=\u001b[0m \u001b[1;33m{\u001b[0m\u001b[1;34m'alpha'\u001b[0m\u001b[1;33m:\u001b[0m\u001b[0malpha\u001b[0m\u001b[1;33m,\u001b[0m \u001b[1;34m'partitioning_factor'\u001b[0m\u001b[1;33m:\u001b[0m \u001b[0mpartitioning_factor\u001b[0m\u001b[1;33m,\u001b[0m \u001b[1;34m'max_iterations'\u001b[0m\u001b[1;33m:\u001b[0m\u001b[0mmax_iterations\u001b[0m\u001b[1;33m,\u001b[0m\u001b[1;34m'min_time'\u001b[0m\u001b[1;33m:\u001b[0m\u001b[0mmin_times\u001b[0m\u001b[1;33m,\u001b[0m\u001b[1;34m'jcs'\u001b[0m\u001b[1;33m:\u001b[0m\u001b[0mjcs\u001b[0m\u001b[1;33m}\u001b[0m\u001b[1;33m\u001b[0m\u001b[1;33m\u001b[0m\u001b[0m\n\u001b[1;32m----> 7\u001b[1;33m \u001b[0mparm_grid\u001b[0m \u001b[1;33m=\u001b[0m \u001b[0mParameterGrid\u001b[0m\u001b[1;33m(\u001b[0m\u001b[0mgrid\u001b[0m\u001b[1;33m)\u001b[0m\u001b[1;33m\u001b[0m\u001b[1;33m\u001b[0m\u001b[0m\n\u001b[0m",
      "\u001b[1;31mNameError\u001b[0m: name 'ParameterGrid' is not defined"
     ]
    }
   ],
   "source": [
    "#Build Hurricane Grid\n",
    "alpha = [0.3]\n",
    "partitioning_factor =[0]\n",
    "max_iterations=[30]\n",
    "min_times = [6,12,18,24]\n",
    "jcs = [0.3,0.4]\n",
    "grid = {'alpha':alpha, 'partitioning_factor': partitioning_factor, 'max_iterations':max_iterations,'min_time':min_times,'jcs':jcs}\n",
    "parm_grid = ParameterGrid(grid)"
   ]
  },
  {
   "cell_type": "code",
   "execution_count": null,
   "metadata": {},
   "outputs": [],
   "source": []
  }
 ],
 "metadata": {
  "kernelspec": {
   "display_name": "Python 3",
   "language": "python",
   "name": "python3"
  },
  "language_info": {
   "codemirror_mode": {
    "name": "ipython",
    "version": 3
   },
   "file_extension": ".py",
   "mimetype": "text/x-python",
   "name": "python",
   "nbconvert_exporter": "python",
   "pygments_lexer": "ipython3",
   "version": "3.7.1"
  }
 },
 "nbformat": 4,
 "nbformat_minor": 1
}
